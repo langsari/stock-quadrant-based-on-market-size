{
 "cells": [
  {
   "cell_type": "code",
   "execution_count": 12,
   "id": "731d17a5",
   "metadata": {},
   "outputs": [
    {
     "name": "stdout",
     "output_type": "stream",
     "text": [
      "Requirement already satisfied: settrade-v2 in c:\\users\\a0864\\anaconda3\\lib\\site-packages (2.2.1)\n",
      "Requirement already satisfied: requests>=2.27 in c:\\users\\a0864\\anaconda3\\lib\\site-packages (from settrade-v2) (2.32.3)\n",
      "Requirement already satisfied: cryptography>=37.0 in c:\\users\\a0864\\anaconda3\\lib\\site-packages (from settrade-v2) (44.0.1)\n",
      "Requirement already satisfied: betterproto>=1.2 in c:\\users\\a0864\\anaconda3\\lib\\site-packages (from settrade-v2) (1.2.5)\n",
      "Requirement already satisfied: paho-mqtt<2,>=1.6 in c:\\users\\a0864\\anaconda3\\lib\\site-packages (from settrade-v2) (1.6.1)\n",
      "Requirement already satisfied: ntplib>=0.4 in c:\\users\\a0864\\anaconda3\\lib\\site-packages (from settrade-v2) (0.4.0)\n",
      "Requirement already satisfied: typing-extensions>=4.1 in c:\\users\\a0864\\anaconda3\\lib\\site-packages (from settrade-v2) (4.15.0)\n",
      "Requirement already satisfied: grpclib in c:\\users\\a0864\\anaconda3\\lib\\site-packages (from betterproto>=1.2->settrade-v2) (0.4.8)\n",
      "Requirement already satisfied: stringcase in c:\\users\\a0864\\anaconda3\\lib\\site-packages (from betterproto>=1.2->settrade-v2) (1.2.0)\n",
      "Requirement already satisfied: cffi>=1.12 in c:\\users\\a0864\\anaconda3\\lib\\site-packages (from cryptography>=37.0->settrade-v2) (1.17.1)\n",
      "Requirement already satisfied: pycparser in c:\\users\\a0864\\anaconda3\\lib\\site-packages (from cffi>=1.12->cryptography>=37.0->settrade-v2) (2.21)\n",
      "Requirement already satisfied: charset-normalizer<4,>=2 in c:\\users\\a0864\\anaconda3\\lib\\site-packages (from requests>=2.27->settrade-v2) (3.3.2)\n",
      "Requirement already satisfied: idna<4,>=2.5 in c:\\users\\a0864\\anaconda3\\lib\\site-packages (from requests>=2.27->settrade-v2) (3.7)\n",
      "Requirement already satisfied: urllib3<3,>=1.21.1 in c:\\users\\a0864\\anaconda3\\lib\\site-packages (from requests>=2.27->settrade-v2) (2.5.0)\n",
      "Requirement already satisfied: certifi>=2017.4.17 in c:\\users\\a0864\\anaconda3\\lib\\site-packages (from requests>=2.27->settrade-v2) (2025.10.5)\n",
      "Requirement already satisfied: h2<5,>=3.1.0 in c:\\users\\a0864\\anaconda3\\lib\\site-packages (from grpclib->betterproto>=1.2->settrade-v2) (4.3.0)\n",
      "Requirement already satisfied: multidict in c:\\users\\a0864\\anaconda3\\lib\\site-packages (from grpclib->betterproto>=1.2->settrade-v2) (6.1.0)\n",
      "Requirement already satisfied: hyperframe<7,>=6.1 in c:\\users\\a0864\\anaconda3\\lib\\site-packages (from h2<5,>=3.1.0->grpclib->betterproto>=1.2->settrade-v2) (6.1.0)\n",
      "Requirement already satisfied: hpack<5,>=4.1 in c:\\users\\a0864\\anaconda3\\lib\\site-packages (from h2<5,>=3.1.0->grpclib->betterproto>=1.2->settrade-v2) (4.1.0)\n",
      "Note: you may need to restart the kernel to use updated packages.\n"
     ]
    }
   ],
   "source": [
    "pip install settrade-v2\n"
   ]
  },
  {
   "cell_type": "code",
   "execution_count": 13,
   "id": "8aead76b",
   "metadata": {},
   "outputs": [],
   "source": [
    "from settrade_v2 import Investor\n",
    "from settrade_v2.errors import SettradeError\n",
    "\n",
    "# ข้อมูลตัวอย่าง Sandbox\n",
    "investor = Investor(\n",
    "    app_id=\"gjwwGfOcEibaEgst\",       # App Id ของคุณ\n",
    "    app_secret=\"ALKtlU4wod9PW3RJY8i/Cs9M2F9s9K/gcl9+B18NMNc4\",  # App Secret\n",
    "    broker_id=\"SANDBOX\",              # Broker ID\n",
    "    app_code=\"SANDBOX\",               # App Code\n",
    "    is_auto_queue=False\n",
    ")\n",
    "\n",
    "market = investor.MarketData()"
   ]
  },
  {
   "cell_type": "code",
   "execution_count": 14,
   "id": "1d2007ed",
   "metadata": {},
   "outputs": [
    {
     "ename": "AttributeError",
     "evalue": "'MarketData' object has no attribute 'get_index_components'",
     "output_type": "error",
     "traceback": [
      "\u001b[1;31m---------------------------------------------------------------------------\u001b[0m",
      "\u001b[1;31mAttributeError\u001b[0m                            Traceback (most recent call last)",
      "Cell \u001b[1;32mIn[14], line 2\u001b[0m\n\u001b[0;32m      1\u001b[0m \u001b[38;5;28;01mtry\u001b[39;00m:\n\u001b[1;32m----> 2\u001b[0m     set100_stocks \u001b[38;5;241m=\u001b[39m market\u001b[38;5;241m.\u001b[39mget_index_components(index_id\u001b[38;5;241m=\u001b[39m\u001b[38;5;124m\"\u001b[39m\u001b[38;5;124mSET100\u001b[39m\u001b[38;5;124m\"\u001b[39m)  \u001b[38;5;66;03m# ตรวจสอบชื่อ method SDK\u001b[39;00m\n\u001b[0;32m      3\u001b[0m     symbols \u001b[38;5;241m=\u001b[39m [s[\u001b[38;5;124m\"\u001b[39m\u001b[38;5;124msymbol\u001b[39m\u001b[38;5;124m\"\u001b[39m] \u001b[38;5;28;01mfor\u001b[39;00m s \u001b[38;5;129;01min\u001b[39;00m set100_stocks]\n\u001b[0;32m      4\u001b[0m     \u001b[38;5;28mprint\u001b[39m(\u001b[38;5;124mf\u001b[39m\u001b[38;5;124m\"\u001b[39m\u001b[38;5;124m✅ พบหุ้นใน SET100 จำนวน \u001b[39m\u001b[38;5;132;01m{\u001b[39;00m\u001b[38;5;28mlen\u001b[39m(symbols)\u001b[38;5;132;01m}\u001b[39;00m\u001b[38;5;124m ตัว\u001b[39m\u001b[38;5;124m\"\u001b[39m)\n",
      "\u001b[1;31mAttributeError\u001b[0m: 'MarketData' object has no attribute 'get_index_components'"
     ]
    }
   ],
   "source": [
    "try:\n",
    "    set100_stocks = market.get_index_components(index_id=\"SET100\")  # ตรวจสอบชื่อ method SDK\n",
    "    symbols = [s[\"symbol\"] for s in set100_stocks]\n",
    "    print(f\"✅ พบหุ้นใน SET100 จำนวน {len(symbols)} ตัว\")\n",
    "except SettradeError as e:\n",
    "    print(\"⚠️ ดึงข้อมูล SET100 ไม่สำเร็จ:\", e)\n",
    "    symbols = []"
   ]
  },
  {
   "cell_type": "code",
   "execution_count": 15,
   "id": "c37f5782",
   "metadata": {},
   "outputs": [
    {
     "name": "stdout",
     "output_type": "stream",
     "text": [
      "['__class__', '__delattr__', '__dict__', '__dir__', '__doc__', '__eq__', '__firstlineno__', '__format__', '__ge__', '__getattribute__', '__getstate__', '__gt__', '__hash__', '__init__', '__init_subclass__', '__le__', '__lt__', '__module__', '__ne__', '__new__', '__reduce__', '__reduce_ex__', '__repr__', '__setattr__', '__sizeof__', '__static_attributes__', '__str__', '__subclasshook__', '__weakref__', '_ctx', 'get_candlestick', 'get_quote_symbol', 'market_url']\n"
     ]
    }
   ],
   "source": [
    "# แสดง method / attribute ทั้งหมดของ MarketData\n",
    "print(dir(market))\n"
   ]
  },
  {
   "cell_type": "code",
   "execution_count": 16,
   "id": "304c27d8",
   "metadata": {},
   "outputs": [
    {
     "name": "stdout",
     "output_type": "stream",
     "text": [
      "💾 บันทึกไฟล์เรียบร้อย\n"
     ]
    }
   ],
   "source": [
    "from settrade_v2 import Investor\n",
    "import pandas as pd\n",
    "\n",
    "# -------------------------------\n",
    "# 1️⃣ ตั้งค่า Investor\n",
    "# -------------------------------\n",
    "investor = Investor(\n",
    "    app_id=\"gjwwGfOcEibaEgst\",\n",
    "    app_secret=\"ALKtlU4wod9PW3RJY8i/Cs9M2F9s9K/gcl9+B18NMNc4\",\n",
    "    broker_id=\"SANDBOX\",\n",
    "    app_code=\"SANDBOX\",\n",
    "    is_auto_queue=False\n",
    ")\n",
    "\n",
    "market = investor.MarketData()\n",
    "\n",
    "# -------------------------------\n",
    "# 2️⃣ กำหนดรายชื่อหุ้น SET100 ด้วยตัวเอง (ตัวอย่าง)\n",
    "# -------------------------------\n",
    "set100_symbols = [\"PTT\", \"AOT\", \"SCB\", \"CPALL\"]  # <- แก้เป็นหุ้นทั้งหมด 100 ตัว\n",
    "\n",
    "# -------------------------------\n",
    "# 3️⃣ ดึงข้อมูลหุ้นทีละตัว\n",
    "# -------------------------------\n",
    "all_data = []\n",
    "\n",
    "for sym in set100_symbols:\n",
    "    try:\n",
    "        info = market.get_quote_symbol(symbol=sym)\n",
    "        all_data.append({\n",
    "            \"Symbol\": sym,\n",
    "            \"CompanyName\": info.get(\"companyName\"),\n",
    "            \"Market\": info.get(\"market\"),\n",
    "            \"Sector\": info.get(\"sector\"),\n",
    "            \"Industry\": info.get(\"industry\"),\n",
    "            \"MarketCap\": info.get(\"marketCap\"),\n",
    "            \"PE\": info.get(\"peRatio\"),\n",
    "            \"PBV\": info.get(\"pbvRatio\"),\n",
    "            \"DividendYield\": info.get(\"dividendYield\"),\n",
    "            \"EPS\": info.get(\"eps\"),\n",
    "            \"Volume\": info.get(\"averageVolume\"),\n",
    "            \"Turnover\": info.get(\"averageTurnover\"),\n",
    "        })\n",
    "    except Exception as e:\n",
    "        print(f\"⚠️ ดึงข้อมูล {sym} ไม่สำเร็จ:\", e)\n",
    "\n",
    "# -------------------------------\n",
    "# 4️⃣ Export Excel\n",
    "# -------------------------------\n",
    "df = pd.DataFrame(all_data)\n",
    "df.to_excel(\"SET100_Data_SettradeSDK_Final.xlsx\", index=False)\n",
    "print(\"💾 บันทึกไฟล์เรียบร้อย\")\n"
   ]
  }
 ],
 "metadata": {
  "kernelspec": {
   "display_name": "base",
   "language": "python",
   "name": "python3"
  },
  "language_info": {
   "codemirror_mode": {
    "name": "ipython",
    "version": 3
   },
   "file_extension": ".py",
   "mimetype": "text/x-python",
   "name": "python",
   "nbconvert_exporter": "python",
   "pygments_lexer": "ipython3",
   "version": "3.13.5"
  }
 },
 "nbformat": 4,
 "nbformat_minor": 5
}
