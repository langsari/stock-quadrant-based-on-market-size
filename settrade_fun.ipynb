{
 "cells": [
  {
   "cell_type": "code",
   "execution_count": 58,
   "metadata": {},
   "outputs": [
    {
     "name": "stdout",
     "output_type": "stream",
     "text": [
      "Defaulting to user installation because normal site-packages is not writeable\n",
      "Requirement already satisfied: mplfinance in c:\\users\\a0864\\appdata\\local\\packages\\pythonsoftwarefoundation.python.3.13_qbz5n2kfra8p0\\localcache\\local-packages\\python313\\site-packages (0.12.10b0)\n",
      "Requirement already satisfied: matplotlib in c:\\users\\a0864\\appdata\\local\\packages\\pythonsoftwarefoundation.python.3.13_qbz5n2kfra8p0\\localcache\\local-packages\\python313\\site-packages (from mplfinance) (3.10.6)\n",
      "Requirement already satisfied: pandas in c:\\users\\a0864\\appdata\\local\\packages\\pythonsoftwarefoundation.python.3.13_qbz5n2kfra8p0\\localcache\\local-packages\\python313\\site-packages (from mplfinance) (2.3.2)\n",
      "Requirement already satisfied: contourpy>=1.0.1 in c:\\users\\a0864\\appdata\\local\\packages\\pythonsoftwarefoundation.python.3.13_qbz5n2kfra8p0\\localcache\\local-packages\\python313\\site-packages (from matplotlib->mplfinance) (1.3.3)\n",
      "Requirement already satisfied: cycler>=0.10 in c:\\users\\a0864\\appdata\\local\\packages\\pythonsoftwarefoundation.python.3.13_qbz5n2kfra8p0\\localcache\\local-packages\\python313\\site-packages (from matplotlib->mplfinance) (0.12.1)\n",
      "Requirement already satisfied: fonttools>=4.22.0 in c:\\users\\a0864\\appdata\\local\\packages\\pythonsoftwarefoundation.python.3.13_qbz5n2kfra8p0\\localcache\\local-packages\\python313\\site-packages (from matplotlib->mplfinance) (4.59.2)\n",
      "Requirement already satisfied: kiwisolver>=1.3.1 in c:\\users\\a0864\\appdata\\local\\packages\\pythonsoftwarefoundation.python.3.13_qbz5n2kfra8p0\\localcache\\local-packages\\python313\\site-packages (from matplotlib->mplfinance) (1.4.9)\n",
      "Requirement already satisfied: numpy>=1.23 in c:\\users\\a0864\\appdata\\local\\packages\\pythonsoftwarefoundation.python.3.13_qbz5n2kfra8p0\\localcache\\local-packages\\python313\\site-packages (from matplotlib->mplfinance) (2.3.3)\n",
      "Requirement already satisfied: packaging>=20.0 in c:\\users\\a0864\\appdata\\local\\packages\\pythonsoftwarefoundation.python.3.13_qbz5n2kfra8p0\\localcache\\local-packages\\python313\\site-packages (from matplotlib->mplfinance) (25.0)\n",
      "Requirement already satisfied: pillow>=8 in c:\\users\\a0864\\appdata\\local\\packages\\pythonsoftwarefoundation.python.3.13_qbz5n2kfra8p0\\localcache\\local-packages\\python313\\site-packages (from matplotlib->mplfinance) (11.3.0)\n",
      "Requirement already satisfied: pyparsing>=2.3.1 in c:\\users\\a0864\\appdata\\local\\packages\\pythonsoftwarefoundation.python.3.13_qbz5n2kfra8p0\\localcache\\local-packages\\python313\\site-packages (from matplotlib->mplfinance) (3.2.4)\n",
      "Requirement already satisfied: python-dateutil>=2.7 in c:\\users\\a0864\\appdata\\local\\packages\\pythonsoftwarefoundation.python.3.13_qbz5n2kfra8p0\\localcache\\local-packages\\python313\\site-packages (from matplotlib->mplfinance) (2.9.0.post0)\n",
      "Requirement already satisfied: six>=1.5 in c:\\users\\a0864\\appdata\\local\\packages\\pythonsoftwarefoundation.python.3.13_qbz5n2kfra8p0\\localcache\\local-packages\\python313\\site-packages (from python-dateutil>=2.7->matplotlib->mplfinance) (1.17.0)\n",
      "Requirement already satisfied: pytz>=2020.1 in c:\\users\\a0864\\appdata\\local\\packages\\pythonsoftwarefoundation.python.3.13_qbz5n2kfra8p0\\localcache\\local-packages\\python313\\site-packages (from pandas->mplfinance) (2025.2)\n",
      "Requirement already satisfied: tzdata>=2022.7 in c:\\users\\a0864\\appdata\\local\\packages\\pythonsoftwarefoundation.python.3.13_qbz5n2kfra8p0\\localcache\\local-packages\\python313\\site-packages (from pandas->mplfinance) (2025.2)\n"
     ]
    }
   ],
   "source": [
    "!pip install mplfinance"
   ]
  },
  {
   "cell_type": "code",
   "execution_count": 59,
   "metadata": {},
   "outputs": [
    {
     "name": "stdout",
     "output_type": "stream",
     "text": [
      "Defaulting to user installation because normal site-packages is not writeable\n",
      "Requirement already satisfied: settrade-v2 in c:\\users\\a0864\\appdata\\local\\packages\\pythonsoftwarefoundation.python.3.13_qbz5n2kfra8p0\\localcache\\local-packages\\python313\\site-packages (2.2.0)\n",
      "Requirement already satisfied: requests>=2.27 in c:\\users\\a0864\\appdata\\local\\packages\\pythonsoftwarefoundation.python.3.13_qbz5n2kfra8p0\\localcache\\local-packages\\python313\\site-packages (from settrade-v2) (2.32.5)\n",
      "Requirement already satisfied: cryptography>=37.0 in c:\\users\\a0864\\appdata\\local\\packages\\pythonsoftwarefoundation.python.3.13_qbz5n2kfra8p0\\localcache\\local-packages\\python313\\site-packages (from settrade-v2) (45.0.7)\n",
      "Requirement already satisfied: betterproto>=1.2 in c:\\users\\a0864\\appdata\\local\\packages\\pythonsoftwarefoundation.python.3.13_qbz5n2kfra8p0\\localcache\\local-packages\\python313\\site-packages (from settrade-v2) (1.2.5)\n",
      "Requirement already satisfied: paho-mqtt<2,>=1.6 in c:\\users\\a0864\\appdata\\local\\packages\\pythonsoftwarefoundation.python.3.13_qbz5n2kfra8p0\\localcache\\local-packages\\python313\\site-packages (from settrade-v2) (1.6.1)\n",
      "Requirement already satisfied: ntplib>=0.4 in c:\\users\\a0864\\appdata\\local\\packages\\pythonsoftwarefoundation.python.3.13_qbz5n2kfra8p0\\localcache\\local-packages\\python313\\site-packages (from settrade-v2) (0.4.0)\n",
      "Requirement already satisfied: typing-extensions>=4.1 in c:\\users\\a0864\\appdata\\local\\packages\\pythonsoftwarefoundation.python.3.13_qbz5n2kfra8p0\\localcache\\local-packages\\python313\\site-packages (from settrade-v2) (4.15.0)\n",
      "Requirement already satisfied: grpclib in c:\\users\\a0864\\appdata\\local\\packages\\pythonsoftwarefoundation.python.3.13_qbz5n2kfra8p0\\localcache\\local-packages\\python313\\site-packages (from betterproto>=1.2->settrade-v2) (0.4.8)\n",
      "Requirement already satisfied: stringcase in c:\\users\\a0864\\appdata\\local\\packages\\pythonsoftwarefoundation.python.3.13_qbz5n2kfra8p0\\localcache\\local-packages\\python313\\site-packages (from betterproto>=1.2->settrade-v2) (1.2.0)\n",
      "Requirement already satisfied: cffi>=1.14 in c:\\users\\a0864\\appdata\\local\\packages\\pythonsoftwarefoundation.python.3.13_qbz5n2kfra8p0\\localcache\\local-packages\\python313\\site-packages (from cryptography>=37.0->settrade-v2) (2.0.0)\n",
      "Requirement already satisfied: pycparser in c:\\users\\a0864\\appdata\\local\\packages\\pythonsoftwarefoundation.python.3.13_qbz5n2kfra8p0\\localcache\\local-packages\\python313\\site-packages (from cffi>=1.14->cryptography>=37.0->settrade-v2) (2.23)\n",
      "Requirement already satisfied: charset_normalizer<4,>=2 in c:\\users\\a0864\\appdata\\local\\packages\\pythonsoftwarefoundation.python.3.13_qbz5n2kfra8p0\\localcache\\local-packages\\python313\\site-packages (from requests>=2.27->settrade-v2) (3.4.3)\n",
      "Requirement already satisfied: idna<4,>=2.5 in c:\\users\\a0864\\appdata\\local\\packages\\pythonsoftwarefoundation.python.3.13_qbz5n2kfra8p0\\localcache\\local-packages\\python313\\site-packages (from requests>=2.27->settrade-v2) (3.10)\n",
      "Requirement already satisfied: urllib3<3,>=1.21.1 in c:\\users\\a0864\\appdata\\local\\packages\\pythonsoftwarefoundation.python.3.13_qbz5n2kfra8p0\\localcache\\local-packages\\python313\\site-packages (from requests>=2.27->settrade-v2) (2.5.0)\n",
      "Requirement already satisfied: certifi>=2017.4.17 in c:\\users\\a0864\\appdata\\local\\packages\\pythonsoftwarefoundation.python.3.13_qbz5n2kfra8p0\\localcache\\local-packages\\python313\\site-packages (from requests>=2.27->settrade-v2) (2025.8.3)\n",
      "Requirement already satisfied: h2<5,>=3.1.0 in c:\\users\\a0864\\appdata\\local\\packages\\pythonsoftwarefoundation.python.3.13_qbz5n2kfra8p0\\localcache\\local-packages\\python313\\site-packages (from grpclib->betterproto>=1.2->settrade-v2) (4.3.0)\n",
      "Requirement already satisfied: multidict in c:\\users\\a0864\\appdata\\local\\packages\\pythonsoftwarefoundation.python.3.13_qbz5n2kfra8p0\\localcache\\local-packages\\python313\\site-packages (from grpclib->betterproto>=1.2->settrade-v2) (6.6.4)\n",
      "Requirement already satisfied: hyperframe<7,>=6.1 in c:\\users\\a0864\\appdata\\local\\packages\\pythonsoftwarefoundation.python.3.13_qbz5n2kfra8p0\\localcache\\local-packages\\python313\\site-packages (from h2<5,>=3.1.0->grpclib->betterproto>=1.2->settrade-v2) (6.1.0)\n",
      "Requirement already satisfied: hpack<5,>=4.1 in c:\\users\\a0864\\appdata\\local\\packages\\pythonsoftwarefoundation.python.3.13_qbz5n2kfra8p0\\localcache\\local-packages\\python313\\site-packages (from h2<5,>=3.1.0->grpclib->betterproto>=1.2->settrade-v2) (4.1.0)\n"
     ]
    }
   ],
   "source": [
    "!pip install settrade-v2"
   ]
  },
  {
   "cell_type": "code",
   "execution_count": 60,
   "metadata": {},
   "outputs": [
    {
     "name": "stdout",
     "output_type": "stream",
     "text": [
      "Defaulting to user installation because normal site-packages is not writeable\n",
      "Requirement already satisfied: psycopg2 in c:\\users\\a0864\\appdata\\local\\packages\\pythonsoftwarefoundation.python.3.13_qbz5n2kfra8p0\\localcache\\local-packages\\python313\\site-packages (2.9.10)\n"
     ]
    }
   ],
   "source": [
    "!pip install psycopg2\n"
   ]
  },
  {
   "cell_type": "code",
   "execution_count": 61,
   "metadata": {},
   "outputs": [],
   "source": [
    "from settrade_v2 import Investor\n",
    "from pprint import pprint\n",
    "import psycopg2\n",
    "import pandas as pd\n",
    "import time\n",
    "from psycopg2 import sql\n",
    "from datetime import datetime\n",
    "from pprint import pprint\n",
    "import mplfinance as mpf\n",
    "import matplotlib.pyplot as plt\n",
    "import numpy as np"
   ]
  },
  {
   "cell_type": "code",
   "execution_count": 74,
   "metadata": {},
   "outputs": [],
   "source": [
    "investor = Investor(\n",
    "                    app_id=\"3FNJLl7A4x1St9I4\",\n",
    "                    app_secret=\"YnTAzWCGiFND6rw0aQQ8N/qRHTScLEpK7wDnbrwbJHI=\",\n",
    "                    broker_id=\"SANDBOX\",\n",
    "                    app_code=\"SANDBOX\",\n",
    "                    is_auto_queue = False)"
   ]
  },
  {
   "cell_type": "code",
   "execution_count": 75,
   "metadata": {},
   "outputs": [],
   "source": [
    "# กรณี Investor\n",
    "market = investor.MarketData()"
   ]
  },
  {
   "cell_type": "code",
   "execution_count": 76,
   "metadata": {},
   "outputs": [
    {
     "name": "stdout",
     "output_type": "stream",
     "text": [
      "{'aumSize': None,\n",
      " 'average': 45.29586,\n",
      " 'change': 0.0,\n",
      " 'eps': 1.57,\n",
      " 'exchange': None,\n",
      " 'exercisePrice': None,\n",
      " 'exerciseRatio': None,\n",
      " 'high': 45.75,\n",
      " 'impliedVolatility': None,\n",
      " 'inav': None,\n",
      " 'instrumentType': 'STOCK',\n",
      " 'intrinsicValue': None,\n",
      " 'last': 45.25,\n",
      " 'lastTradingDate': None,\n",
      " 'low': 44.75,\n",
      " 'marketStatus': 'Open2',\n",
      " 'maturityDate': None,\n",
      " 'moneyness': None,\n",
      " 'pbv': 3.39,\n",
      " 'pe': 15.88,\n",
      " 'percentChange': 0.0,\n",
      " 'percentYield': 2.809999942779541,\n",
      " 'securityType': 'CS',\n",
      " 'status': '',\n",
      " 'symbol': 'CPALL',\n",
      " 'theoretical': None,\n",
      " 'toLastTrade': None,\n",
      " 'totalBuyVolume': 6279500,\n",
      " 'totalNoSideVolume': 783500,\n",
      " 'totalSellVolume': 7327500,\n",
      " 'totalVolume': 14390500,\n",
      " 'underlying': None,\n",
      " 'underlyingPrice': None}\n"
     ]
    }
   ],
   "source": [
    "mkt_data = investor.MarketData()\n",
    "res = mkt_data.get_quote_symbol(\"CPALL\")\n",
    "pprint(res)"
   ]
  },
  {
   "cell_type": "code",
   "execution_count": 78,
   "metadata": {},
   "outputs": [
    {
     "name": "stdout",
     "output_type": "stream",
     "text": [
      "{'instrumentType': 'STOCK', 'symbol': 'CPALL', 'high': 45.75, 'low': 44.75, 'last': 45.25, 'average': 45.29586, 'change': 0.0, 'percentChange': 0.0, 'totalVolume': 14392400, 'totalBuyVolume': 6279700, 'totalSellVolume': 7329200, 'totalNoSideVolume': 783500, 'status': '', 'marketStatus': 'Open2', 'securityType': 'CS', 'eps': 1.57, 'pe': 15.88, 'pbv': 3.39, 'percentYield': 2.809999942779541, 'maturityDate': None, 'exercisePrice': None, 'underlying': None, 'underlyingPrice': None, 'intrinsicValue': None, 'theoretical': None, 'moneyness': None, 'lastTradingDate': None, 'toLastTrade': None, 'exerciseRatio': None, 'impliedVolatility': None, 'exchange': None, 'aumSize': None, 'inav': None}\n"
     ]
    }
   ],
   "source": [
    "from settrade_v2 import Investor\n",
    "from settrade_v2.logger import SettradeError\n",
    "\n",
    "# สร้าง Investor object พร้อม parameter ที่จำเป็น\n",
    "investor = Investor(\n",
    "    app_id=\"3FNJLl7A4x1St9I4\",\n",
    "    app_secret=\"YnTAzWCGiFND6rw0aQQ8N/qRHTScLEpK7wDnbrwbJHI=\",\n",
    "    app_code=\"SANDBOX\",\n",
    "    broker_id=\"SANDBOX\",\n",
    "    is_auto_queue=False\n",
    ")\n",
    "\n",
    "try:\n",
    "    mkt_data = investor.MarketData()\n",
    "    res = mkt_data.get_quote_symbol(\"CPALL\")\n",
    "    print(res)\n",
    "except SettradeError as e:\n",
    "    print(\"SettradeError code:\", getattr(e, \"code\", None))\n",
    "    print(\"SettradeError message:\", getattr(e, \"message\", str(e)))\n",
    "except Exception as e:\n",
    "    print(\"Other error:\", e)\n"
   ]
  },
  {
   "cell_type": "code",
   "execution_count": 79,
   "metadata": {},
   "outputs": [],
   "source": [
    "db_config = {\n",
    "    'dbname': 'settrade_api',\n",
    "    'user': 'postgres',\n",
    "    'password': '111004',\n",
    "    'host': 'localhost',\n",
    "    'port': \"5432\"\n",
    "}"
   ]
  },
  {
   "cell_type": "code",
   "execution_count": 80,
   "metadata": {},
   "outputs": [
    {
     "name": "stdout",
     "output_type": "stream",
     "text": [
      "✅ ตาราง `stock_financials` ถูกสร้างหรือมีอยู่แล้ว!\n"
     ]
    }
   ],
   "source": [
    "# ✅ ฟังก์ชันสร้างตาราง\n",
    "def create_table():\n",
    "    create_table_query = \"\"\"\n",
    "    CREATE TABLE IF NOT EXISTS stock_financials (\n",
    "        symbol TEXT PRIMARY KEY,\n",
    "        instrument_type TEXT DEFAULT 'STOCK',\n",
    "        security_type TEXT DEFAULT 'CS',\n",
    "        market_status TEXT DEFAULT 'Unknown',\n",
    "        total_volume INT DEFAULT 0,\n",
    "        aum_size NUMERIC DEFAULT 0,\n",
    "        average NUMERIC DEFAULT 0,\n",
    "        change NUMERIC DEFAULT 0,\n",
    "        eps NUMERIC DEFAULT 0,\n",
    "        exchange TEXT DEFAULT '',\n",
    "        exercise_price NUMERIC DEFAULT 0,\n",
    "        exercise_ratio NUMERIC DEFAULT 0,\n",
    "        high NUMERIC DEFAULT 0,\n",
    "        implied_volatility NUMERIC DEFAULT 0,\n",
    "        inav NUMERIC DEFAULT 0,\n",
    "        intrinsic_value NUMERIC DEFAULT 0,\n",
    "        last NUMERIC DEFAULT 0,\n",
    "        last_trading_date DATE,\n",
    "        low NUMERIC DEFAULT 0,\n",
    "        maturity_date DATE,\n",
    "        moneyness NUMERIC DEFAULT 0,\n",
    "        pbv NUMERIC DEFAULT 0,\n",
    "        pe NUMERIC DEFAULT 0,\n",
    "        percent_change NUMERIC DEFAULT 0,\n",
    "        percent_yield NUMERIC DEFAULT 0,\n",
    "        theoretical NUMERIC DEFAULT 0,\n",
    "        to_last_trade NUMERIC DEFAULT 0,\n",
    "        underlying TEXT DEFAULT '',\n",
    "        underlying_price NUMERIC DEFAULT 0,\n",
    "        updated_at TIMESTAMP DEFAULT CURRENT_TIMESTAMP\n",
    "    );\n",
    "    \"\"\"\n",
    "    try:\n",
    "        # 🔗 เชื่อมต่อฐานข้อมูล\n",
    "        with psycopg2.connect(**db_config) as conn:\n",
    "            with conn.cursor() as cursor:\n",
    "                cursor.execute(create_table_query)\n",
    "                conn.commit()\n",
    "        print(\"✅ ตาราง `stock_financials` ถูกสร้างหรือมีอยู่แล้ว!\")\n",
    "    except Exception as e:\n",
    "        print(\"❌ Error creating table:\", e)\n",
    "\n",
    "# ✅ รันฟังก์ชันสร้างตาราง\n",
    "create_table()\n"
   ]
  },
  {
   "cell_type": "code",
   "execution_count": 81,
   "metadata": {},
   "outputs": [
    {
     "name": "stdout",
     "output_type": "stream",
     "text": [
      "Defaulting to user installation because normal site-packages is not writeable\n",
      "Requirement already satisfied: python-dotenv in c:\\users\\a0864\\appdata\\local\\packages\\pythonsoftwarefoundation.python.3.13_qbz5n2kfra8p0\\localcache\\local-packages\\python313\\site-packages (1.1.1)\n"
     ]
    }
   ],
   "source": [
    "!pip install python-dotenv"
   ]
  },
  {
   "cell_type": "code",
   "execution_count": 82,
   "metadata": {},
   "outputs": [
    {
     "name": "stdout",
     "output_type": "stream",
     "text": [
      "❌ ไม่พบไฟล์ 'thai_stocks.csv' ใช้รายชื่อหุ้นที่กำหนดแทน\n",
      "🔍 กำลังดึงข้อมูล Financial Data สำหรับ PTT...\n",
      "✅ ข้อมูล Financial Data ของ PTT ถูกบันทึกเรียบร้อยแล้ว!\n",
      "🔍 กำลังดึงข้อมูล Financial Data สำหรับ AOT...\n",
      "✅ ข้อมูล Financial Data ของ AOT ถูกบันทึกเรียบร้อยแล้ว!\n",
      "🔍 กำลังดึงข้อมูล Financial Data สำหรับ SCB...\n",
      "✅ ข้อมูล Financial Data ของ SCB ถูกบันทึกเรียบร้อยแล้ว!\n",
      "🔍 กำลังดึงข้อมูล Financial Data สำหรับ CPALL...\n",
      "✅ ข้อมูล Financial Data ของ CPALL ถูกบันทึกเรียบร้อยแล้ว!\n",
      "🔍 กำลังดึงข้อมูล Financial Data สำหรับ ADVANC...\n",
      "✅ ข้อมูล Financial Data ของ ADVANC ถูกบันทึกเรียบร้อยแล้ว!\n"
     ]
    }
   ],
   "source": [
    "import os\n",
    "import time\n",
    "import psycopg2\n",
    "import pandas as pd\n",
    "from settrade_v2 import Investor\n",
    "from dotenv import load_dotenv\n",
    "\n",
    "# ✅ โหลดตัวแปรจาก .env\n",
    "load_dotenv()\n",
    "\n",
    "\n",
    "# ✅ สร้าง Object สำหรับ Market Data\n",
    "market = investor.MarketData()\n",
    "\n",
    "# ✅ ฟังก์ชันดึงข้อมูล Financial Data และบันทึกลง PostgreSQL\n",
    "def insert_financial_data(symbol):\n",
    "    try:\n",
    "        print(f\"🔍 กำลังดึงข้อมูล Financial Data สำหรับ {symbol}...\")\n",
    "        \n",
    "        # ✅ ดึงข้อมูลจาก Settrade API\n",
    "        res = market.get_quote_symbol(symbol)  # 🔥 เปลี่ยนจาก get_quote() เป็น get_quote_symbol()\n",
    "\n",
    "        # 🚨 ถ้าไม่มีข้อมูล ให้ข้าม\n",
    "        if not isinstance(res, dict) or \"symbol\" not in res:\n",
    "            print(f\"⚠️ ไม่มีข้อมูลสำหรับ {symbol}.\")\n",
    "            return\n",
    "\n",
    "        # 🔧 กำหนดค่าเริ่มต้นหากไม่มีข้อมูล\n",
    "        data = {\n",
    "            'symbol': res.get('symbol', symbol),\n",
    "            'instrument_type': res.get('instrumentType', 'STOCK'),\n",
    "            'security_type': res.get('securityType', 'CS'),\n",
    "            'market_status': res.get('marketStatus', 'Unknown'),\n",
    "            'total_volume': res.get('totalVolume', 0),\n",
    "            'aum_size': res.get('aumSize', 0),\n",
    "            'average': res.get('average', 0),\n",
    "            'change': res.get('change', 0),\n",
    "            'eps': res.get('eps', 0),\n",
    "            'exchange': res.get('exchange', ''),\n",
    "            'exercise_price': res.get('exercisePrice', 0),\n",
    "            'exercise_ratio': res.get('exerciseRatio', 0),\n",
    "            'high': res.get('high', 0),\n",
    "            'implied_volatility': res.get('impliedVolatility', 0),\n",
    "            'inav': res.get('inav', 0),\n",
    "            'intrinsic_value': res.get('intrinsicValue', 0),\n",
    "            'last': res.get('last', 0),\n",
    "            'last_trading_date': res.get('lastTradingDate', None),\n",
    "            'low': res.get('low', 0),\n",
    "            'maturity_date': res.get('maturityDate', None),\n",
    "            'moneyness': res.get('moneyness', 0),\n",
    "            'pbv': res.get('pbv', 0),\n",
    "            'pe': res.get('pe', 0),\n",
    "            'percent_change': res.get('percentChange', 0),\n",
    "            'percent_yield': res.get('percentYield', 0),\n",
    "            'theoretical': res.get('theoretical', 0),\n",
    "            'to_last_trade': res.get('toLastTrade', 0),\n",
    "            'underlying': res.get('underlying', ''),\n",
    "            'underlying_price': res.get('underlyingPrice', 0)\n",
    "        }\n",
    "\n",
    "        # ✅ เชื่อมต่อฐานข้อมูลและบันทึกข้อมูล\n",
    "        with psycopg2.connect(**db_config) as conn:\n",
    "            with conn.cursor() as cursor:\n",
    "                insert_query = \"\"\"\n",
    "                    INSERT INTO stock_financials (\n",
    "                        symbol, instrument_type, security_type, market_status, total_volume, \n",
    "                        aum_size, average, change, eps, exchange, exercise_price, \n",
    "                        exercise_ratio, high, implied_volatility, inav, intrinsic_value, \n",
    "                        last, last_trading_date, low, maturity_date, moneyness, pbv, pe, \n",
    "                        percent_change, percent_yield, theoretical, to_last_trade, underlying, \n",
    "                        underlying_price, updated_at\n",
    "                    ) VALUES (\n",
    "                        %(symbol)s, %(instrument_type)s, %(security_type)s, %(market_status)s, %(total_volume)s,\n",
    "                        %(aum_size)s, %(average)s, %(change)s, %(eps)s, %(exchange)s, %(exercise_price)s,\n",
    "                        %(exercise_ratio)s, %(high)s, %(implied_volatility)s, %(inav)s, %(intrinsic_value)s,\n",
    "                        %(last)s, %(last_trading_date)s, %(low)s, %(maturity_date)s, %(moneyness)s, %(pbv)s, %(pe)s,\n",
    "                        %(percent_change)s, %(percent_yield)s, %(theoretical)s, %(to_last_trade)s, %(underlying)s,\n",
    "                        %(underlying_price)s, NOW()\n",
    "                    )\n",
    "                    ON CONFLICT (symbol) DO UPDATE SET\n",
    "                        last = EXCLUDED.last,\n",
    "                        change = EXCLUDED.change,\n",
    "                        percent_change = EXCLUDED.percent_change,\n",
    "                        high = EXCLUDED.high,\n",
    "                        low = EXCLUDED.low,\n",
    "                        total_volume = EXCLUDED.total_volume,\n",
    "                        updated_at = NOW();\n",
    "                \"\"\"\n",
    "                cursor.execute(insert_query, data)\n",
    "                conn.commit()\n",
    "                print(f\"✅ ข้อมูล Financial Data ของ {symbol} ถูกบันทึกเรียบร้อยแล้ว!\")\n",
    "\n",
    "    except Exception as e:\n",
    "        print(f\"❌ เกิดข้อผิดพลาดกับ {symbol}: {e}\")\n",
    "\n",
    "# ✅ โหลดรายชื่อหุ้นทั้งหมดจากไฟล์ CSV\n",
    "try:\n",
    "    symbols_df = pd.read_csv(\"thai_stocks (1).csv\")  # ไฟล์ต้องมีคอลัมน์ 'symbol'\n",
    "    symbols = symbols_df['symbol'].dropna().tolist()\n",
    "except FileNotFoundError:\n",
    "    print(\"❌ ไม่พบไฟล์ 'thai_stocks.csv' ใช้รายชื่อหุ้นที่กำหนดแทน\")\n",
    "    symbols = [\"PTT\", \"AOT\", \"SCB\", \"CPALL\", \"ADVANC\"]\n",
    "\n",
    "# ✅ ดึงข้อมูล Financial Data สำหรับหุ้นทุกตัว\n",
    "for symbol in symbols:\n",
    "    insert_financial_data(symbol)\n",
    "    time.sleep(2)  # ⏳ ควบคุม API Rate Limit\n"
   ]
  },
  {
   "cell_type": "code",
   "execution_count": 83,
   "metadata": {},
   "outputs": [
    {
     "data": {
      "image/png": "[encoded data removed]",
      "text/plain": [
       "<Figure size 1200x600 with 2 Axes>"
      ]
     },
     "metadata": {},
     "output_type": "display_data"
    }
   ],
   "source": [
    "import matplotlib.pyplot as plt\n",
    "import numpy as np\n",
    "import pandas as pd\n",
    "\n",
    "# ✅ ข้อมูลหุ้นตัวอย่าง (ดึงจากฐานข้อมูลหรือ API)\n",
    "data = {\n",
    "    \"symbol\": [\"AOT.BK\", \"PTT.BK\", \"SCB.BK\", \"CPALL.BK\", \"KBANK.BK\"],\n",
    "    \"PE Ratio\": [30.4, 12.8, 9.5, 27.3, 8.6],\n",
    "    \"EPS\": [1.39, 5.22, 8.75, 3.55, 7.89],\n",
    "    \"Market Cap\": [603570831360, 1200000000000, 500000000000, 750000000000, 620000000000],\n",
    "}\n",
    "\n",
    "df_viz = pd.DataFrame(data)\n",
    "\n",
    "# ✅ กำหนดตำแหน่งของหุ้น\n",
    "fig, ax1 = plt.subplots(figsize=(12, 6))\n",
    "width = 0.3  # ความกว้างของแท่ง\n",
    "x = np.arange(len(df_viz[\"symbol\"]))\n",
    "\n",
    "# ✅ สร้าง Secondary Axis สำหรับ Market Cap\n",
    "ax2 = ax1.twinx()\n",
    "\n",
    "# ✅ วาดกราฟแท่ง\n",
    "bars1 = ax1.bar(x - width, df_viz[\"PE Ratio\"], width, label=\"PE Ratio\", color=\"royalblue\", alpha=0.8)\n",
    "bars2 = ax1.bar(x, df_viz[\"EPS\"], width, label=\"EPS\", color=\"seagreen\", alpha=0.8)\n",
    "bars3 = ax2.bar(x + width, df_viz[\"Market Cap\"] / 1e12, width, label=\"Market Cap (T THB)\", color=\"crimson\", alpha=0.6)\n",
    "\n",
    "# ✅ ตั้งค่ากราฟ\n",
    "ax1.set_xticks(x)\n",
    "ax1.set_xticklabels(df_viz[\"symbol\"], fontsize=12)\n",
    "ax1.set_ylabel(\"PE Ratio & EPS\", fontsize=12, color=\"black\")\n",
    "ax2.set_ylabel(\"Market Cap (Trillion THB)\", fontsize=12, color=\"black\")\n",
    "ax1.set_title(\"Comparison of PE Ratio, EPS, and Market Cap\", fontsize=14, fontweight=\"bold\")\n",
    "\n",
    "# ✅ แสดงค่าตัวเลขบนกราฟแท่ง\n",
    "def add_value_labels(ax, bars, offset=1, color=\"black\"):\n",
    "    for bar in bars:\n",
    "        height = bar.get_height()\n",
    "        ax.text(bar.get_x() + bar.get_width()/2, height + offset, f\"{height:.2f}\", ha=\"center\", va=\"bottom\", fontsize=10, color=color)\n",
    "\n",
    "add_value_labels(ax1, bars1, offset=1, color=\"blue\")\n",
    "add_value_labels(ax1, bars2, offset=1, color=\"green\")\n",
    "add_value_labels(ax2, bars3, offset=0.1, color=\"red\")\n",
    "\n",
    "# ✅ รวม Legend\n",
    "ax1.legend(loc=\"upper left\", fontsize=10)\n",
    "ax2.legend(loc=\"upper right\", fontsize=10)\n",
    "\n",
    "# ✅ แสดงกราฟ\n",
    "plt.show()\n"
   ]
  }
 ],
 "metadata": {
  "kernelspec": {
   "display_name": "Python 3",
   "language": "python",
   "name": "python3"
  },
  "language_info": {
   "codemirror_mode": {
    "name": "ipython",
    "version": 3
   },
   "file_extension": ".py",
   "mimetype": "text/x-python",
   "name": "python",
   "nbconvert_exporter": "python",
   "pygments_lexer": "ipython3",
   "version": "3.13.7"
  }
 },
 "nbformat": 4,
 "nbformat_minor": 2
}
